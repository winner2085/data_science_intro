{
 "cells": [
  {
   "cell_type": "markdown",
   "id": "244b11a5-8275-4d34-9bb0-a19d87128793",
   "metadata": {},
   "source": [
    "# Intro to Data Science with Pokemon\n",
    "***"
   ]
  },
  {
   "cell_type": "markdown",
   "id": "c8ecdd7d-0ad8-4497-8839-d9d2fff05016",
   "metadata": {},
   "source": [
    "### Arrays"
   ]
  },
  {
   "cell_type": "code",
   "execution_count": 15,
   "id": "44012065-2b8e-4a33-b0c9-4cbd69bc015a",
   "metadata": {},
   "outputs": [],
   "source": [
    "food = [\"bread\", \"cheese\", \"banana\", \"apple\", \"tomato\"]"
   ]
  },
  {
   "cell_type": "code",
   "execution_count": 16,
   "id": "0304f268-8bcc-4010-a79a-2b981a25c742",
   "metadata": {},
   "outputs": [
    {
     "name": "stdout",
     "output_type": "stream",
     "text": [
      "['bread', 'cheese', 'banana', 'apple', 'tomato']\n"
     ]
    }
   ],
   "source": [
    "print(food)"
   ]
  },
  {
   "cell_type": "code",
   "execution_count": 17,
   "id": "def94480-5ca8-4a47-87e4-1b1180ae5e98",
   "metadata": {},
   "outputs": [
    {
     "name": "stdout",
     "output_type": "stream",
     "text": [
      "banana\n"
     ]
    }
   ],
   "source": [
    "print(food[2])"
   ]
  },
  {
   "cell_type": "code",
   "execution_count": 18,
   "id": "b59f3ea3-a78a-4b70-961e-80ae16d72081",
   "metadata": {},
   "outputs": [],
   "source": [
    "sliced_food_list = food[0:3]"
   ]
  },
  {
   "cell_type": "code",
   "execution_count": 19,
   "id": "45ce5e18-1ab9-4f42-b314-c391ee5d8b3f",
   "metadata": {},
   "outputs": [
    {
     "name": "stdout",
     "output_type": "stream",
     "text": [
      "['bread', 'cheese', 'banana']\n"
     ]
    }
   ],
   "source": [
    "print(sliced_food_list)"
   ]
  },
  {
   "cell_type": "markdown",
   "id": "58a49503-255c-4ac4-9e3a-f245c22082a0",
   "metadata": {},
   "source": [
    "### Import Libraries\n",
    "***"
   ]
  },
  {
   "cell_type": "code",
   "execution_count": 20,
   "id": "96b2f9ed-5864-4a32-9d67-d865c26833b2",
   "metadata": {},
   "outputs": [],
   "source": [
    "import pandas as pd\n",
    "import numpy as py\n",
    "import seaborn as sb"
   ]
  },
  {
   "cell_type": "code",
   "execution_count": 21,
   "id": "8dbe83af-c027-486a-b996-40b89ad5b668",
   "metadata": {},
   "outputs": [
    {
     "name": "stdout",
     "output_type": "stream",
     "text": [
      "PANDAS version2.2.3\n",
      "numpy version2.1.1\n",
      "Seaborn version0.13.2\n"
     ]
    }
   ],
   "source": [
    "print(\"PANDAS version\" + pd.__version__)\n",
    "print(\"numpy version\" + py.__version__)\n",
    "print(\"Seaborn version\" + sb.__version__)"
   ]
  },
  {
   "cell_type": "markdown",
   "id": "3d25d69c-5a70-4e1c-833e-e71708410fdb",
   "metadata": {},
   "source": [
    "### Loading Data\n",
    "***"
   ]
  },
  {
   "cell_type": "code",
   "execution_count": 22,
   "id": "2a802584-dc02-479e-b287-57dff513fc22",
   "metadata": {},
   "outputs": [],
   "source": [
    "df = pd.read_csv(\"pokemon.csv\")"
   ]
  },
  {
   "cell_type": "markdown",
   "id": "bad4681f-34e7-4822-93d1-74b15b4ddcec",
   "metadata": {},
   "source": [
    "### Display Full Data Frames\n",
    "***"
   ]
  },
  {
   "cell_type": "code",
   "execution_count": 23,
   "id": "7202c5db-6592-47e9-b3d0-df513dc948e6",
   "metadata": {},
   "outputs": [],
   "source": [
    "#pd.set_option('display.max_rows', None)"
   ]
  },
  {
   "cell_type": "code",
   "execution_count": 24,
   "id": "cd9cd085-6883-439f-ba90-f48b647062d4",
   "metadata": {},
   "outputs": [
    {
     "data": {
      "text/html": [
       "<div>\n",
       "<style scoped>\n",
       "    .dataframe tbody tr th:only-of-type {\n",
       "        vertical-align: middle;\n",
       "    }\n",
       "\n",
       "    .dataframe tbody tr th {\n",
       "        vertical-align: top;\n",
       "    }\n",
       "\n",
       "    .dataframe thead th {\n",
       "        text-align: right;\n",
       "    }\n",
       "</style>\n",
       "<table border=\"1\" class=\"dataframe\">\n",
       "  <thead>\n",
       "    <tr style=\"text-align: right;\">\n",
       "      <th></th>\n",
       "      <th>Per</th>\n",
       "      <th>Nat</th>\n",
       "      <th>Pokemon</th>\n",
       "      <th>HP</th>\n",
       "      <th>Atk</th>\n",
       "      <th>Def</th>\n",
       "      <th>SpA</th>\n",
       "      <th>SpD</th>\n",
       "      <th>Spe</th>\n",
       "      <th>Total</th>\n",
       "      <th>...</th>\n",
       "      <th>Catch</th>\n",
       "      <th>EXP</th>\n",
       "      <th>Evolve</th>\n",
       "      <th>Per.1</th>\n",
       "      <th>Nat.1</th>\n",
       "      <th>Joh</th>\n",
       "      <th>Hoe</th>\n",
       "      <th>Sin</th>\n",
       "      <th>Un</th>\n",
       "      <th>Pokemon.1</th>\n",
       "    </tr>\n",
       "  </thead>\n",
       "  <tbody>\n",
       "    <tr>\n",
       "      <th>0</th>\n",
       "      <td>1.0</td>\n",
       "      <td>1.0</td>\n",
       "      <td>Bulbasaur</td>\n",
       "      <td>45</td>\n",
       "      <td>49</td>\n",
       "      <td>49</td>\n",
       "      <td>65</td>\n",
       "      <td>65</td>\n",
       "      <td>45</td>\n",
       "      <td>318</td>\n",
       "      <td>...</td>\n",
       "      <td>45</td>\n",
       "      <td>1059860</td>\n",
       "      <td>NaN</td>\n",
       "      <td>1.0</td>\n",
       "      <td>1.0</td>\n",
       "      <td>226.0</td>\n",
       "      <td>NaN</td>\n",
       "      <td>NaN</td>\n",
       "      <td>NaN</td>\n",
       "      <td>Bulbasaur</td>\n",
       "    </tr>\n",
       "    <tr>\n",
       "      <th>1</th>\n",
       "      <td>2.0</td>\n",
       "      <td>2.0</td>\n",
       "      <td>Ivysaur</td>\n",
       "      <td>60</td>\n",
       "      <td>62</td>\n",
       "      <td>63</td>\n",
       "      <td>80</td>\n",
       "      <td>80</td>\n",
       "      <td>60</td>\n",
       "      <td>405</td>\n",
       "      <td>...</td>\n",
       "      <td>45</td>\n",
       "      <td>1059860</td>\n",
       "      <td>Lv. 16</td>\n",
       "      <td>2.0</td>\n",
       "      <td>2.0</td>\n",
       "      <td>227.0</td>\n",
       "      <td>NaN</td>\n",
       "      <td>NaN</td>\n",
       "      <td>NaN</td>\n",
       "      <td>Ivysaur</td>\n",
       "    </tr>\n",
       "    <tr>\n",
       "      <th>2</th>\n",
       "      <td>3.0</td>\n",
       "      <td>3.0</td>\n",
       "      <td>Venusaur</td>\n",
       "      <td>80</td>\n",
       "      <td>82</td>\n",
       "      <td>83</td>\n",
       "      <td>100</td>\n",
       "      <td>100</td>\n",
       "      <td>80</td>\n",
       "      <td>525</td>\n",
       "      <td>...</td>\n",
       "      <td>45</td>\n",
       "      <td>1059860</td>\n",
       "      <td>Lv. 32</td>\n",
       "      <td>3.0</td>\n",
       "      <td>3.0</td>\n",
       "      <td>228.0</td>\n",
       "      <td>NaN</td>\n",
       "      <td>NaN</td>\n",
       "      <td>NaN</td>\n",
       "      <td>Venusaur</td>\n",
       "    </tr>\n",
       "    <tr>\n",
       "      <th>3</th>\n",
       "      <td>4.0</td>\n",
       "      <td>4.0</td>\n",
       "      <td>Charmander</td>\n",
       "      <td>39</td>\n",
       "      <td>52</td>\n",
       "      <td>43</td>\n",
       "      <td>60</td>\n",
       "      <td>50</td>\n",
       "      <td>65</td>\n",
       "      <td>309</td>\n",
       "      <td>...</td>\n",
       "      <td>45</td>\n",
       "      <td>1059860</td>\n",
       "      <td>NaN</td>\n",
       "      <td>4.0</td>\n",
       "      <td>4.0</td>\n",
       "      <td>229.0</td>\n",
       "      <td>NaN</td>\n",
       "      <td>NaN</td>\n",
       "      <td>NaN</td>\n",
       "      <td>Charmander</td>\n",
       "    </tr>\n",
       "    <tr>\n",
       "      <th>4</th>\n",
       "      <td>5.0</td>\n",
       "      <td>5.0</td>\n",
       "      <td>Charmeleon</td>\n",
       "      <td>58</td>\n",
       "      <td>64</td>\n",
       "      <td>58</td>\n",
       "      <td>80</td>\n",
       "      <td>65</td>\n",
       "      <td>80</td>\n",
       "      <td>405</td>\n",
       "      <td>...</td>\n",
       "      <td>45</td>\n",
       "      <td>1059860</td>\n",
       "      <td>Lv. 16</td>\n",
       "      <td>5.0</td>\n",
       "      <td>5.0</td>\n",
       "      <td>230.0</td>\n",
       "      <td>NaN</td>\n",
       "      <td>NaN</td>\n",
       "      <td>NaN</td>\n",
       "      <td>Charmeleon</td>\n",
       "    </tr>\n",
       "  </tbody>\n",
       "</table>\n",
       "<p>5 rows × 35 columns</p>\n",
       "</div>"
      ],
      "text/plain": [
       "   Per  Nat     Pokemon  HP  Atk  Def  SpA  SpD  Spe  Total  ... Catch  \\\n",
       "0  1.0  1.0   Bulbasaur  45   49   49   65   65   45    318  ...    45   \n",
       "1  2.0  2.0     Ivysaur  60   62   63   80   80   60    405  ...    45   \n",
       "2  3.0  3.0    Venusaur  80   82   83  100  100   80    525  ...    45   \n",
       "3  4.0  4.0  Charmander  39   52   43   60   50   65    309  ...    45   \n",
       "4  5.0  5.0  Charmeleon  58   64   58   80   65   80    405  ...    45   \n",
       "\n",
       "       EXP  Evolve Per.1 Nat.1    Joh Hoe  Sin  Un   Pokemon.1  \n",
       "0  1059860     NaN   1.0   1.0  226.0 NaN  NaN NaN   Bulbasaur  \n",
       "1  1059860  Lv. 16   2.0   2.0  227.0 NaN  NaN NaN     Ivysaur  \n",
       "2  1059860  Lv. 32   3.0   3.0  228.0 NaN  NaN NaN    Venusaur  \n",
       "3  1059860     NaN   4.0   4.0  229.0 NaN  NaN NaN  Charmander  \n",
       "4  1059860  Lv. 16   5.0   5.0  230.0 NaN  NaN NaN  Charmeleon  \n",
       "\n",
       "[5 rows x 35 columns]"
      ]
     },
     "execution_count": 24,
     "metadata": {},
     "output_type": "execute_result"
    }
   ],
   "source": [
    "df.head()"
   ]
  },
  {
   "cell_type": "markdown",
   "id": "38ea73dd-a69f-4bbf-983e-a697fc3634b2",
   "metadata": {},
   "source": [
    "This is the pokemon data set, note that all pokemon are present except the latest newest generation."
   ]
  },
  {
   "cell_type": "markdown",
   "id": "a370abb1-cb8c-4d79-a084-e2ff591a0997",
   "metadata": {},
   "source": [
    "### Accessing Columns\n",
    "***"
   ]
  },
  {
   "cell_type": "code",
   "execution_count": 25,
   "id": "d0d89098-5e13-4786-af9c-e08e7adbc4a4",
   "metadata": {},
   "outputs": [],
   "source": [
    "pokemon_column = df.Pokemon"
   ]
  },
  {
   "cell_type": "code",
   "execution_count": 26,
   "id": "8d1a1cbb-f63c-4625-bc4b-b70b7a55fca6",
   "metadata": {},
   "outputs": [
    {
     "data": {
      "text/plain": [
       "'Bulbasaur'"
      ]
     },
     "execution_count": 26,
     "metadata": {},
     "output_type": "execute_result"
    }
   ],
   "source": [
    "pokemon_column[0]"
   ]
  },
  {
   "cell_type": "code",
   "execution_count": 27,
   "id": "e1133d9d-cd51-42b3-a40f-e9c5f0cdbc50",
   "metadata": {},
   "outputs": [
    {
     "data": {
      "text/plain": [
       "0    Bulbasaur\n",
       "1      Ivysaur\n",
       "2     Venusaur\n",
       "Name: Pokemon, dtype: object"
      ]
     },
     "execution_count": 27,
     "metadata": {},
     "output_type": "execute_result"
    }
   ],
   "source": [
    "pokemon_column[0:3]"
   ]
  },
  {
   "cell_type": "markdown",
   "id": "bb3a17bc-c23b-442e-9fbd-04df6a5b35ec",
   "metadata": {},
   "source": [
    "### Accessing Multiple Columns\n",
    "***"
   ]
  },
  {
   "cell_type": "markdown",
   "id": "ba4e6c77-6825-4fc5-a11f-760a8b55623b",
   "metadata": {},
   "source": [
    "You can access multiple columns by using a variable."
   ]
  },
  {
   "cell_type": "code",
   "execution_count": 30,
   "id": "e6ba80b3-4b8d-4366-b281-ebd8a9a31e3f",
   "metadata": {},
   "outputs": [],
   "source": [
    "pkm_atk_hp = df[['Pokemon', 'HP', \"Atk\"]]"
   ]
  },
  {
   "cell_type": "code",
   "execution_count": 31,
   "id": "c5cdd4eb-6ca8-4c2b-8877-431190fff8aa",
   "metadata": {},
   "outputs": [
    {
     "data": {
      "text/html": [
       "<div>\n",
       "<style scoped>\n",
       "    .dataframe tbody tr th:only-of-type {\n",
       "        vertical-align: middle;\n",
       "    }\n",
       "\n",
       "    .dataframe tbody tr th {\n",
       "        vertical-align: top;\n",
       "    }\n",
       "\n",
       "    .dataframe thead th {\n",
       "        text-align: right;\n",
       "    }\n",
       "</style>\n",
       "<table border=\"1\" class=\"dataframe\">\n",
       "  <thead>\n",
       "    <tr style=\"text-align: right;\">\n",
       "      <th></th>\n",
       "      <th>Pokemon</th>\n",
       "      <th>HP</th>\n",
       "      <th>Atk</th>\n",
       "    </tr>\n",
       "  </thead>\n",
       "  <tbody>\n",
       "    <tr>\n",
       "      <th>0</th>\n",
       "      <td>Bulbasaur</td>\n",
       "      <td>45</td>\n",
       "      <td>49</td>\n",
       "    </tr>\n",
       "    <tr>\n",
       "      <th>1</th>\n",
       "      <td>Ivysaur</td>\n",
       "      <td>60</td>\n",
       "      <td>62</td>\n",
       "    </tr>\n",
       "    <tr>\n",
       "      <th>2</th>\n",
       "      <td>Venusaur</td>\n",
       "      <td>80</td>\n",
       "      <td>82</td>\n",
       "    </tr>\n",
       "    <tr>\n",
       "      <th>3</th>\n",
       "      <td>Charmander</td>\n",
       "      <td>39</td>\n",
       "      <td>52</td>\n",
       "    </tr>\n",
       "    <tr>\n",
       "      <th>4</th>\n",
       "      <td>Charmeleon</td>\n",
       "      <td>58</td>\n",
       "      <td>64</td>\n",
       "    </tr>\n",
       "    <tr>\n",
       "      <th>5</th>\n",
       "      <td>Charizard</td>\n",
       "      <td>78</td>\n",
       "      <td>84</td>\n",
       "    </tr>\n",
       "    <tr>\n",
       "      <th>6</th>\n",
       "      <td>Squirtle</td>\n",
       "      <td>44</td>\n",
       "      <td>48</td>\n",
       "    </tr>\n",
       "    <tr>\n",
       "      <th>7</th>\n",
       "      <td>Wartortle</td>\n",
       "      <td>59</td>\n",
       "      <td>63</td>\n",
       "    </tr>\n",
       "    <tr>\n",
       "      <th>8</th>\n",
       "      <td>Blastoise</td>\n",
       "      <td>79</td>\n",
       "      <td>83</td>\n",
       "    </tr>\n",
       "    <tr>\n",
       "      <th>9</th>\n",
       "      <td>Caterpie</td>\n",
       "      <td>45</td>\n",
       "      <td>30</td>\n",
       "    </tr>\n",
       "  </tbody>\n",
       "</table>\n",
       "</div>"
      ],
      "text/plain": [
       "      Pokemon  HP  Atk\n",
       "0   Bulbasaur  45   49\n",
       "1     Ivysaur  60   62\n",
       "2    Venusaur  80   82\n",
       "3  Charmander  39   52\n",
       "4  Charmeleon  58   64\n",
       "5   Charizard  78   84\n",
       "6    Squirtle  44   48\n",
       "7   Wartortle  59   63\n",
       "8   Blastoise  79   83\n",
       "9    Caterpie  45   30"
      ]
     },
     "execution_count": 31,
     "metadata": {},
     "output_type": "execute_result"
    }
   ],
   "source": [
    "pkm_atk_hp.head(10)"
   ]
  },
  {
   "cell_type": "markdown",
   "id": "2d9f99a5-fa23-4522-937b-0d01521f6999",
   "metadata": {},
   "source": [
    "### Accessing Rows\n",
    "***"
   ]
  },
  {
   "cell_type": "markdown",
   "id": "43a38ef5-e93c-468d-8638-d34669a5190d",
   "metadata": {},
   "source": [
    "You can access rows by using `iloc[]` which allows you to specify index location for a row."
   ]
  },
  {
   "cell_type": "code",
   "execution_count": 32,
   "id": "26504489-a3c1-473e-a7e8-e75691fa2ed9",
   "metadata": {},
   "outputs": [],
   "source": [
    "bulbasor_row = df.iloc[0]"
   ]
  },
  {
   "cell_type": "code",
   "execution_count": 33,
   "id": "3384e005-7b2c-4e2c-8d23-14da7e648a19",
   "metadata": {},
   "outputs": [
    {
     "name": "stdout",
     "output_type": "stream",
     "text": [
      "Per                       1.0\n",
      "Nat                       1.0\n",
      "Pokemon             Bulbasaur\n",
      "HP                         45\n",
      "Atk                        49\n",
      "Def                        49\n",
      "SpA                        65\n",
      "SpD                        65\n",
      "Spe                        45\n",
      "Total                     318\n",
      "Type I                  Grass\n",
      "Type II                Poison\n",
      "Tier                       NU\n",
      "Ability I            Overgrow\n",
      "Ability II                NaN\n",
      "Hidden Ability    Chlorophyll\n",
      "Mass                   6.9 kG\n",
      "LK/GK                      20\n",
      "EV Worth                1 SpA\n",
      "EXPV                       64\n",
      "Color                   Green\n",
      "Hatch                    5120\n",
      "Gender              M (87.5%)\n",
      "Egg Group I           Monster\n",
      "Egg Group II            Grass\n",
      "Catch                      45\n",
      "EXP                   1059860\n",
      "Evolve                    NaN\n",
      "Per.1                     1.0\n",
      "Nat.1                     1.0\n",
      "Joh                     226.0\n",
      "Hoe                       NaN\n",
      "Sin                       NaN\n",
      "Un                        NaN\n",
      "Pokemon.1           Bulbasaur\n",
      "Name: 0, dtype: object\n"
     ]
    }
   ],
   "source": [
    "print(bulbasor_row)"
   ]
  },
  {
   "cell_type": "markdown",
   "id": "8345b1f6-8a55-41a1-9381-9d153fc5f8f8",
   "metadata": {},
   "source": [
    "### Useful PANDAS Methods\n",
    "***"
   ]
  },
  {
   "cell_type": "code",
   "execution_count": 35,
   "id": "95c4c8af-da54-4011-a1c8-9f44a8bc59a2",
   "metadata": {},
   "outputs": [
    {
     "data": {
      "text/plain": [
       "464     Abomasnow\n",
       "62           Abra\n",
       "358         Absol\n",
       "629      Accelgor\n",
       "141    Aerodactyl\n",
       "          ...    \n",
       "262     Zigzagoon\n",
       "583       Zoroark\n",
       "582         Zorua\n",
       "40          Zubat\n",
       "646      Zweilous\n",
       "Name: Pokemon, Length: 663, dtype: object"
      ]
     },
     "execution_count": 35,
     "metadata": {},
     "output_type": "execute_result"
    }
   ],
   "source": [
    "df.Pokemon.sort_values() #sorts values of the pokemon column"
   ]
  },
  {
   "cell_type": "code",
   "execution_count": 37,
   "id": "9d3b2029-d116-4fc5-87a3-7c2da387f97b",
   "metadata": {},
   "outputs": [
    {
     "data": {
      "text/plain": [
       "8     Blastoise\n",
       "0     Bulbasaur\n",
       "9      Caterpie\n",
       "5     Charizard\n",
       "3    Charmander\n",
       "4    Charmeleon\n",
       "1       Ivysaur\n",
       "6      Squirtle\n",
       "2      Venusaur\n",
       "7     Wartortle\n",
       "Name: Pokemon, dtype: object"
      ]
     },
     "execution_count": 37,
     "metadata": {},
     "output_type": "execute_result"
    }
   ],
   "source": [
    "df.Pokemon[0:10].sort_values() #Sorts index 0 to 10 alphabetically"
   ]
  },
  {
   "cell_type": "code",
   "execution_count": 38,
   "id": "20f67af9-5299-4f9e-88da-160dbf82650a",
   "metadata": {},
   "outputs": [
    {
     "data": {
      "text/plain": [
       "np.float64(68.34087481146305)"
      ]
     },
     "execution_count": 38,
     "metadata": {},
     "output_type": "execute_result"
    }
   ],
   "source": [
    "df.HP.mean() #Gets mean HP value"
   ]
  },
  {
   "cell_type": "code",
   "execution_count": 40,
   "id": "6227f5c4-013e-4011-8cb8-f929bc58b63d",
   "metadata": {},
   "outputs": [
    {
     "data": {
      "text/plain": [
       "count    663.000000\n",
       "mean      68.962293\n",
       "std       29.246841\n",
       "min       10.000000\n",
       "25%       45.000000\n",
       "50%       65.000000\n",
       "75%       90.000000\n",
       "max      180.000000\n",
       "Name: SpA, dtype: float64"
      ]
     },
     "execution_count": 40,
     "metadata": {},
     "output_type": "execute_result"
    }
   ],
   "source": [
    "df.SpA.describe()"
   ]
  },
  {
   "cell_type": "markdown",
   "id": "62a9d85d-7d65-49fc-a7ab-d66b4a0def08",
   "metadata": {},
   "source": [
    "### Filtering Data\n",
    "***"
   ]
  },
  {
   "cell_type": "code",
   "execution_count": 48,
   "id": "cd5c99d8-7d00-400d-aff0-6257c8b1ce4d",
   "metadata": {},
   "outputs": [],
   "source": [
    "chu_pokemon = df[df['Pokemon'].str.contains('chu')] #Looks for 'chu'"
   ]
  },
  {
   "cell_type": "code",
   "execution_count": 49,
   "id": "9a2eae62-17fd-4d6e-be6d-3ac1dcf6b9f4",
   "metadata": {},
   "outputs": [
    {
     "name": "stdout",
     "output_type": "stream",
     "text": [
      "       Per    Nat   Pokemon  HP  Atk  Def  SpA  SpD  Spe  Total  ... Catch  \\\n",
      "24    26.0   25.0   Pikachu  35   55   30   50   40   90    300  ...   190   \n",
      "25    27.0   26.0    Raichu  60   90   55   90   80  100    475  ...    75   \n",
      "171   25.0  172.0     Pichu  20   40   15   35   35   60    205  ...   190   \n",
      "237  143.0  238.0  Smoochum  45   30   15   85   65   65    305  ...    45   \n",
      "\n",
      "         EXP        Evolve  Per.1  Nat.1    Joh    Hoe    Sin  Un  Pokemon.1  \n",
      "24   1000000    Friendship   26.0   25.0   22.0  156.0  104.0 NaN    Pikachu  \n",
      "25   1000000  Thunderstone   27.0   26.0   23.0  157.0  105.0 NaN     Raichu  \n",
      "171  1000000           NaN   25.0  172.0   21.0  155.0  103.0 NaN      Pichu  \n",
      "237  1000000           NaN  143.0  238.0  152.0    NaN    NaN NaN   Smoochum  \n",
      "\n",
      "[4 rows x 35 columns]\n"
     ]
    }
   ],
   "source": [
    "print(chu_pokemon)"
   ]
  },
  {
   "cell_type": "code",
   "execution_count": 50,
   "id": "75cf360f-40b7-4963-b410-fe0857ba5bf4",
   "metadata": {},
   "outputs": [],
   "source": [
    "spec_atk_70 = df[df['SpA']== 70]"
   ]
  },
  {
   "cell_type": "code",
   "execution_count": 51,
   "id": "923cbc8a-8c94-454a-8c02-0fa66efcf53f",
   "metadata": {},
   "outputs": [
    {
     "name": "stdout",
     "output_type": "stream",
     "text": [
      "       Per    Nat     Pokemon   HP  Atk  Def  SpA  SpD  Spe  Total  ... Catch  \\\n",
      "17    18.0   18.0     Pidgeot   83   80   75   70   70   91    469  ...    45   \n",
      "57    63.0   58.0   Growlithe   55   70   45   70   50   60    350  ...   190   \n",
      "61    67.0   62.0   Poliwrath   90   85   95   70   90   70    500  ...    45   \n",
      "68    75.0   69.0  Bellsprout   50   75   35   70   30   40    300  ...   255   \n",
      "86    95.0   87.0     Dewgong   90   70   80   70   95   70    475  ...    75   \n",
      "115  132.0  116.0      Horsea   30   40   70   70   25   60    295  ...   225   \n",
      "119  137.0  120.0      Staryu   30   45   55   70   55   85    340  ...   225   \n",
      "147  179.0  148.0   Dragonair   61   84   65   70   70   70    420  ...    45   \n",
      "168   46.0  169.0      Crobat   85   90   80   70   80  130    535  ...    90   \n",
      "176  205.0  177.0        Natu   40   50   45   70   45   70    320  ...   190   \n",
      "217  248.0  218.0      Slugma   40   40   40   70   40   20    250  ...   190   \n",
      "239  148.0  240.0       Magby   45   75   37   70   55   83    365  ...    45   \n",
      "254  279.0  255.0     Torchic   45   60   40   70   50   45    310  ...    45   \n",
      "319  347.0  320.0     Wailmer  130   70   35   70   35   60    400  ...   125   \n",
      "324  352.0  325.0      Spoink   60   25   35   70   80   60    330  ...   255   \n",
      "333  361.0  334.0     Altaria   75   70   90   70  105   80    490  ...    45   \n",
      "343  371.0  344.0     Claydol   60   70  105   70  120   75    500  ...    90   \n",
      "347  375.0  348.0     Armaldo   75  125  100   70   80   45    495  ...    45   \n",
      "350  378.0  351.0    Castform   70   70   70   70   70   70    420  ...    45   \n",
      "387  415.2  386.2  Deoxys (D)   50   70  160   70  160   90    600  ...     3   \n",
      "443  139.0  439.0    Mime Jr.   20   25   45   70   90   60    310  ...   145   \n",
      "477  252.0  473.0   Mamoswine  110  130   80   70   60   80    530  ...    50   \n",
      "510  499.0  499.0     Pignite   90   93   55   70   55   55    418  ...    45   \n",
      "553  542.0  542.0    Leavanny   75  103   80   70   70   92    490  ...    45   \n",
      "559  548.0  548.0     Petilil   45   35   50   70   50   30    280  ...   190   \n",
      "612  600.0  600.0       Klang   60   80   95   70   85   50    440  ...    60   \n",
      "613  601.0  601.0   Klinklang   60  100  115   70   85   90    520  ...    30   \n",
      "626  614.0  614.0     Beartic   95  110   80   70   80   50    485  ...    60   \n",
      "\n",
      "         EXP                 Evolve  Per.1  Nat.1    Joh    Hoe    Sin     Un  \\\n",
      "17   1059860                 Lv. 36   18.0   18.0   12.0    NaN    NaN    NaN   \n",
      "57   1250000                    NaN   63.0   58.0  127.0    NaN    NaN    NaN   \n",
      "61   1059860            Water Stone   67.0   62.0   74.0    NaN    NaN    NaN   \n",
      "68   1059860                    NaN   75.0   69.0   64.0    NaN    NaN    NaN   \n",
      "86   1000000                 Lv. 34   95.0   87.0  177.0    NaN    NaN    NaN   \n",
      "115  1000000                    NaN  132.0  116.0  186.0  184.0    NaN    NaN   \n",
      "119  1250000                    NaN  137.0  120.0  167.0  143.0    NaN    NaN   \n",
      "147  1250000                 Lv. 30  179.0  148.0  242.0    NaN    NaN    NaN   \n",
      "168  1000000             Friendship   46.0  169.0   39.0   65.0   30.0    NaN   \n",
      "176  1000000                    NaN  205.0  177.0  159.0  162.0    NaN    NaN   \n",
      "217  1000000                    NaN  248.0  218.0  211.0  103.0    NaN    NaN   \n",
      "239  1000000                    NaN  148.0  240.0  150.0    NaN  200.0    NaN   \n",
      "254  1059860                    NaN  279.0  255.0    NaN    4.0    NaN    NaN   \n",
      "319  1640000                    NaN  347.0  320.0    NaN   99.0    NaN    NaN   \n",
      "324   800000                    NaN  352.0  325.0    NaN  110.0    NaN    NaN   \n",
      "333   600000                 Lv. 35  361.0  334.0    NaN  122.0  172.0    NaN   \n",
      "343  1000000                 Lv. 36  371.0  344.0    NaN  132.0    NaN    NaN   \n",
      "347   600000                 Lv. 40  375.0  348.0    NaN  136.0    NaN    NaN   \n",
      "350  1000000                      N  378.0  351.0    NaN  142.0    NaN    NaN   \n",
      "387  1250000                      N  415.2  386.2    NaN  202.2    NaN    NaN   \n",
      "443  1000000                    NaN  139.0  439.0    NaN    NaN   94.0    NaN   \n",
      "477  1250000  Level w/ Ancientpower  252.0  473.0    NaN    NaN  205.0    NaN   \n",
      "510  1059860                 Lv. 17  499.0  499.0    NaN    NaN    NaN    5.0   \n",
      "553  1059860             Friendship  542.0  542.0    NaN    NaN    NaN   48.0   \n",
      "559  1000000                    NaN  548.0  548.0    NaN    NaN    NaN   54.0   \n",
      "612  1059860                 Lv. 38  600.0  600.0    NaN    NaN    NaN  106.0   \n",
      "613  1059860                 Lv. 49  601.0  601.0    NaN    NaN    NaN  107.0   \n",
      "626  1000000                 Lv. 37  614.0  614.0    NaN    NaN    NaN  120.0   \n",
      "\n",
      "      Pokemon.1  \n",
      "17      Pidgeot  \n",
      "57    Growlithe  \n",
      "61    Poliwrath  \n",
      "68   Bellsprout  \n",
      "86      Dewgong  \n",
      "115      Horsea  \n",
      "119      Staryu  \n",
      "147   Dragonair  \n",
      "168      Crobat  \n",
      "176        Natu  \n",
      "217      Slugma  \n",
      "239       Magby  \n",
      "254     Torchic  \n",
      "319     Wailmer  \n",
      "324      Spoink  \n",
      "333     Altaria  \n",
      "343     Claydol  \n",
      "347     Armaldo  \n",
      "350    Castform  \n",
      "387  Deoxys (D)  \n",
      "443    Mime Jr.  \n",
      "477   Mamoswine  \n",
      "510     Pignite  \n",
      "553    Leavanny  \n",
      "559     Petilil  \n",
      "612       Klang  \n",
      "613   Klinklang  \n",
      "626     Beartic  \n",
      "\n",
      "[28 rows x 35 columns]\n"
     ]
    }
   ],
   "source": [
    "print(spec_atk_70)"
   ]
  },
  {
   "cell_type": "code",
   "execution_count": null,
   "id": "7e9583c1-1aa4-47d8-b1ef-ac1d741c7b04",
   "metadata": {},
   "outputs": [],
   "source": []
  }
 ],
 "metadata": {
  "kernelspec": {
   "display_name": "Python 3 (ipykernel)",
   "language": "python",
   "name": "python3"
  },
  "language_info": {
   "codemirror_mode": {
    "name": "ipython",
    "version": 3
   },
   "file_extension": ".py",
   "mimetype": "text/x-python",
   "name": "python",
   "nbconvert_exporter": "python",
   "pygments_lexer": "ipython3",
   "version": "3.12.1"
  }
 },
 "nbformat": 4,
 "nbformat_minor": 5
}
